{
 "cells": [
  {
   "cell_type": "markdown",
   "metadata": {},
   "source": [
    "## Day 8 - Assignment 1 - Decorators"
   ]
  },
  {
   "cell_type": "markdown",
   "metadata": {},
   "source": [
    "### Write a decorator function for taking input for any kind of function you want to build.\n",
    "\n",
    "#### Example : Fibonacci Series"
   ]
  },
  {
   "cell_type": "code",
   "execution_count": 24,
   "metadata": {},
   "outputs": [
    {
     "name": "stdout",
     "output_type": "stream",
     "text": [
      "Enter a number: 45\n",
      "0\n",
      "1\n",
      "1\n",
      "2\n",
      "3\n",
      "5\n",
      "8\n",
      "13\n",
      "21\n",
      "34\n"
     ]
    }
   ],
   "source": [
    "def decorator_fun(func):\n",
    "    n=int(input(\"Enter a number: \"))\n",
    "    return func(n)\n",
    "@decorator_fun\n",
    "def fib(n):\n",
    "    a=0\n",
    "    b=1\n",
    "    c=1\n",
    "    if n==1:\n",
    "        print(a)\n",
    "        return\n",
    "    elif n==2:\n",
    "        print(a)\n",
    "        print(b)\n",
    "        return\n",
    "    else:\n",
    "        print(a)\n",
    "        print(b)\n",
    "        while(a+b<=n-2):\n",
    "            c=a+b\n",
    "            a=b\n",
    "            b=c\n",
    "            print(c)\n",
    "            "
   ]
  },
  {
   "cell_type": "markdown",
   "metadata": {},
   "source": [
    "## Day 8 - Assignment 2 - Error Handling"
   ]
  },
  {
   "cell_type": "markdown",
   "metadata": {},
   "source": [
    "#### Develop a Python program to open a file in read only mode and try writing something to it and handle the subsequent errors using Exception Handling"
   ]
  },
  {
   "cell_type": "code",
   "execution_count": 22,
   "metadata": {},
   "outputs": [
    {
     "name": "stdout",
     "output_type": "stream",
     "text": [
      "hi \n",
      "\n",
      "bhanu\n",
      "\n",
      "how r u\n",
      "Trying to write into a file which is in read mode\n"
     ]
    }
   ],
   "source": [
    "fr=open(\"bhanu.txt\",'r')\n",
    "for line in fr:\n",
    "    print(line)\n",
    "l=\"What is your Qualification?\"\n",
    "try:\n",
    "    fr.write(l)\n",
    "except IOError:\n",
    "    print(\"Trying to write into a file which is in read mode\")"
   ]
  }
 ],
 "metadata": {
  "kernelspec": {
   "display_name": "Python 3",
   "language": "python",
   "name": "python3"
  },
  "language_info": {
   "codemirror_mode": {
    "name": "ipython",
    "version": 3
   },
   "file_extension": ".py",
   "mimetype": "text/x-python",
   "name": "python",
   "nbconvert_exporter": "python",
   "pygments_lexer": "ipython3",
   "version": "3.8.3"
  }
 },
 "nbformat": 4,
 "nbformat_minor": 4
}
