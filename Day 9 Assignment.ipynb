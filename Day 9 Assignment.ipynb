{
 "cells": [
  {
   "cell_type": "markdown",
   "metadata": {},
   "source": [
    "## Day 9 - Assignment 1 - Unit Testing :"
   ]
  },
  {
   "cell_type": "markdown",
   "metadata": {},
   "source": [
    "### Write a Python Function for finding a given number prime or not and do unit testing on it using PyLint and Unittest Library"
   ]
  },
  {
   "cell_type": "code",
   "execution_count": null,
   "metadata": {},
   "outputs": [],
   "source": [
    "! pip install pylint"
   ]
  },
  {
   "cell_type": "code",
   "execution_count": null,
   "metadata": {},
   "outputs": [],
   "source": [
    "%%writefile prime_checker.py\n",
    "\n",
    "'''checks whether the given number is prime or not'''\n",
    "def isprime(input_num):\n",
    "    ''' returns true ifthe number is prime else returns false'''\n",
    "    flag = True\n",
    "    for i in range(2, input_num):\n",
    "        if input_num % i == 0:\n",
    "            flag = False\n",
    "            break\n",
    "    return flag"
   ]
  },
  {
   "cell_type": "code",
   "execution_count": 3,
   "metadata": {},
   "outputs": [
    {
     "name": "stdout",
     "output_type": "stream",
     "text": [
      "\n",
      "--------------------------------------------------------------------\n",
      "\n",
      "Your code has been rated at 10.00/10 (previous run: 10.00/10, +0.00)\n",
      "\n",
      "\n",
      "\n"
     ]
    }
   ],
   "source": [
    "! pylint \"prime_checker.py\""
   ]
  },
  {
   "cell_type": "code",
   "execution_count": 4,
   "metadata": {},
   "outputs": [
    {
     "data": {
      "text/plain": [
       "True"
      ]
     },
     "execution_count": 4,
     "metadata": {},
     "output_type": "execute_result"
    }
   ],
   "source": [
    "import prime_checker\n",
    "\n",
    "prime_checker.isprime(2)"
   ]
  },
  {
   "cell_type": "code",
   "execution_count": 5,
   "metadata": {},
   "outputs": [
    {
     "name": "stdout",
     "output_type": "stream",
     "text": [
      "Overwriting testPrime.py\n"
     ]
    }
   ],
   "source": [
    "%%writefile testPrime.py\n",
    "\n",
    "import unittest\n",
    "import prime_checker\n",
    "\n",
    "class testNum(unittest.TestCase):\n",
    "    def testInRangeTen(self):\n",
    "        n=9\n",
    "        result = prime_checker.isprime(n)\n",
    "        self.assertEqual(result, False)\n",
    "        n=7\n",
    "        result = prime_checker.isprime(n)\n",
    "        self.assertEqual(result, True)\n",
    "        n=2\n",
    "        result = prime_checker.isprime(n)\n",
    "        self.assertEqual(result, True)\n",
    "    def testInRangeHundred(self):\n",
    "        n=24\n",
    "        result = prime_checker.isprime(n)\n",
    "        self.assertEquals(result, False)\n",
    "        n=29\n",
    "        result = prime_checker.isprime(n)\n",
    "        self.assertEquals(result, True)\n",
    "        n=79\n",
    "        result = prime_checker.isprime(n)\n",
    "        self.assertEquals(result, True)\n",
    "    def testInRangeThousand(self):\n",
    "        n=541\n",
    "        result = prime_checker.isprime(n)\n",
    "        self.assertEquals(result, True)\n",
    "        n=324\n",
    "        result = prime_checker.isprime(n)\n",
    "        self.assertEquals(result, False)\n",
    "        n=547\n",
    "        result = prime_checker.isprime(n)\n",
    "        self.assertEqual(result, True)\n",
    "if __name__ == \"__main__\":\n",
    "    unittest.main()"
   ]
  },
  {
   "cell_type": "code",
   "execution_count": 6,
   "metadata": {},
   "outputs": [
    {
     "name": "stderr",
     "output_type": "stream",
     "text": [
      "testPrime.py:19: DeprecationWarning: Please use assertEqual instead.\n",
      "  self.assertEquals(result, False)\n",
      "...\n",
      "----------------------------------------------------------------------\n",
      "Ran 3 tests in 0.001s\n",
      "\n",
      "OK\n"
     ]
    }
   ],
   "source": [
    "! python testPrime.py"
   ]
  },
  {
   "cell_type": "markdown",
   "metadata": {},
   "source": [
    "## Day 9 - Assignment 2 :"
   ]
  },
  {
   "cell_type": "markdown",
   "metadata": {},
   "source": [
    "### Make a small generator program for returning armstrong numbers in between 1 - 1000 in a generator object"
   ]
  },
  {
   "cell_type": "code",
   "execution_count": 7,
   "metadata": {},
   "outputs": [
    {
     "name": "stdout",
     "output_type": "stream",
     "text": [
      "[1, 2, 3, 4, 5, 6, 7, 8, 9, 153, 370, 371, 407]\n"
     ]
    }
   ],
   "source": [
    "def Armstrong(lst):\n",
    "    for num in lst:\n",
    "        l=len(str(num))\n",
    "        temp=num\n",
    "        sum1=0\n",
    "        digit=0\n",
    "        while(temp>0):\n",
    "            digit=temp%10\n",
    "            sum1=sum1+digit**l\n",
    "            temp=temp//10\n",
    "        if sum1 == num:\n",
    "            yield(num)\n",
    "lst=list(range(1,1000))\n",
    "print(list(Armstrong(lst)))"
   ]
  }
 ],
 "metadata": {
  "kernelspec": {
   "display_name": "Python 3",
   "language": "python",
   "name": "python3"
  },
  "language_info": {
   "codemirror_mode": {
    "name": "ipython",
    "version": 3
   },
   "file_extension": ".py",
   "mimetype": "text/x-python",
   "name": "python",
   "nbconvert_exporter": "python",
   "pygments_lexer": "ipython3",
   "version": "3.8.3"
  }
 },
 "nbformat": 4,
 "nbformat_minor": 4
}
