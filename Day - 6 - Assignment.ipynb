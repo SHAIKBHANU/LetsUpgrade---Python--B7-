{
 "cells": [
  {
   "cell_type": "markdown",
   "metadata": {},
   "source": [
    "## Day 6 - Assignment  1:"
   ]
  },
  {
   "cell_type": "markdown",
   "metadata": {},
   "source": [
    "#### Create a class BankAccount with two attributes owner and balance, two methods namely deposit and withdraw."
   ]
  },
  {
   "cell_type": "code",
   "execution_count": 15,
   "metadata": {},
   "outputs": [
    {
     "name": "stdout",
     "output_type": "stream",
     "text": [
      "Enter Account Holder's name: bhanu\n",
      "Enter balance amount in the account: 1000\n",
      "Enter the amount to be deposited: 2000\n",
      "The balance in the acccount of bhanu after deposit is 3000\n",
      "Enter the amount to be withdrawn: 5000\n",
      "Withdrawal is not Possible, Insufficient Balance\n"
     ]
    }
   ],
   "source": [
    "class BankAccount:\n",
    "    def getDetails(self,owner,balance):\n",
    "        self.owner=owner\n",
    "        self.balance=balance\n",
    "    def deposit(self,amt):\n",
    "        self.balance=self.balance+amt\n",
    "        print(\"The balance in the acccount of\",self.owner,\"after deposit is\",self.balance)\n",
    "    def withdraw(self,amt):\n",
    "        if self.balance>amt:\n",
    "            self.balance=self.balance-amt\n",
    "            print(\"The balance in the acccount of\",self.owner,\"after withdrawal is\",self.balance)\n",
    "        else:\n",
    "            print(\"Withdrawal is not Possible, Insufficient Balance\")\n",
    "customer=BankAccount()\n",
    "name=input(\"Enter Account Holder's name: \")\n",
    "bal=int(input(\"Enter balance amount in the account: \"))\n",
    "customer.getDetails(name,bal)\n",
    "depo=int(input(\"Enter the amount to be deposited: \"))\n",
    "customer.deposit(depo)\n",
    "draw=int(input(\"Enter the amount to be withdrawn: \"))\n",
    "customer.withdraw(draw)"
   ]
  },
  {
   "cell_type": "markdown",
   "metadata": {},
   "source": [
    "## Day 6 - Assignment 2:"
   ]
  },
  {
   "cell_type": "markdown",
   "metadata": {},
   "source": [
    "#### Create a class cone which contains methods volume and surface area and instantiate the class"
   ]
  },
  {
   "cell_type": "code",
   "execution_count": 17,
   "metadata": {},
   "outputs": [
    {
     "name": "stdout",
     "output_type": "stream",
     "text": [
      "Enter radius of the cone : 5\n",
      "Enter height of the cone : 10\n",
      "Volume of the cone: 261.8\n",
      "Surface Area of the Cone: 254.16\n"
     ]
    }
   ],
   "source": [
    "import math\n",
    "class cone:\n",
    "    def getValues(self,radius,height):\n",
    "        self.radius=radius\n",
    "        self.height=height\n",
    "        self.l=math.sqrt(radius**2+height**2)\n",
    "    def volume(self):\n",
    "        V= (1/3)*pi*self.radius**2*self.height\n",
    "        return V\n",
    "    def surfaceArea(self):\n",
    "        sa = math.pi*self.radius*(self.radius+self.l)\n",
    "        return sa\n",
    "c=cone()\n",
    "radius=int(input(\"Enter radius of the cone : \"))\n",
    "height=int(input(\"Enter height of the cone : \"))\n",
    "c.getValues(radius,height)\n",
    "print(\"Volume of the cone:\",round(c.volume(),2))\n",
    "print(\"Surface Area of the Cone:\",round(c.surfaceArea(),2))\n"
   ]
  }
 ],
 "metadata": {
  "kernelspec": {
   "display_name": "Python 3",
   "language": "python",
   "name": "python3"
  },
  "language_info": {
   "codemirror_mode": {
    "name": "ipython",
    "version": 3
   },
   "file_extension": ".py",
   "mimetype": "text/x-python",
   "name": "python",
   "nbconvert_exporter": "python",
   "pygments_lexer": "ipython3",
   "version": "3.8.3"
  }
 },
 "nbformat": 4,
 "nbformat_minor": 4
}
